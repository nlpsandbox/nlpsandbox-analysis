{
 "cells": [
  {
   "cell_type": "code",
   "execution_count": 3,
   "id": "66dab4fd",
   "metadata": {},
   "outputs": [
    {
     "name": "stdout",
     "output_type": "stream",
     "text": [
      "Defaulting to user installation because normal site-packages is not writeable\n",
      "Collecting nlpsandbox-client\n",
      "  Downloading nlpsandbox-client-4.2.0.tar.gz (97 kB)\n",
      "\u001b[K     |████████████████████████████████| 97 kB 3.1 MB/s eta 0:00:011\n",
      "\u001b[?25hRequirement already satisfied: certifi>=14.05.14 in /opt/miniconda/lib/python3.9/site-packages (from nlpsandbox-client) (2020.12.5)\n",
      "Requirement already satisfied: setuptools>=21.0.0 in /opt/miniconda/lib/python3.9/site-packages (from nlpsandbox-client) (51.0.0.post20201207)\n",
      "Requirement already satisfied: six>=1.10 in /opt/miniconda/lib/python3.9/site-packages (from nlpsandbox-client) (1.15.0)\n",
      "Requirement already satisfied: urllib3>=1.15.1 in /opt/miniconda/lib/python3.9/site-packages (from nlpsandbox-client) (1.25.11)\n",
      "Collecting click>=7.1.2\n",
      "  Downloading click-8.0.3-py3-none-any.whl (97 kB)\n",
      "\u001b[K     |████████████████████████████████| 97 kB 3.5 MB/s eta 0:00:01\n",
      "\u001b[?25hCollecting jsonschema>=3.2.0\n",
      "  Downloading jsonschema-4.2.1-py3-none-any.whl (69 kB)\n",
      "\u001b[K     |████████████████████████████████| 69 kB 3.3 MB/s eta 0:00:01\n",
      "\u001b[?25hCollecting attrs>=17.4.0\n",
      "  Downloading attrs-21.2.0-py2.py3-none-any.whl (53 kB)\n",
      "\u001b[K     |████████████████████████████████| 53 kB 2.1 MB/s eta 0:00:01\n",
      "\u001b[?25hCollecting nulltype>=2.3.1\n",
      "  Downloading nulltype-2.3.1-py2.py3-none-any.whl (11 kB)\n",
      "Collecting pyrsistent!=0.17.0,!=0.17.1,!=0.17.2,>=0.14.0\n",
      "  Downloading pyrsistent-0.18.0-cp39-cp39-manylinux1_x86_64.whl (117 kB)\n",
      "\u001b[K     |████████████████████████████████| 117 kB 3.5 MB/s eta 0:00:01\n",
      "\u001b[?25hCollecting python_dateutil>=2.5.3\n",
      "  Downloading python_dateutil-2.8.2-py2.py3-none-any.whl (247 kB)\n",
      "\u001b[K     |████████████████████████████████| 247 kB 3.4 MB/s eta 0:00:01\n",
      "\u001b[?25hRequirement already satisfied: six>=1.10 in /opt/miniconda/lib/python3.9/site-packages (from nlpsandbox-client) (1.15.0)\n",
      "Collecting synapseclient>=2.2.0\n",
      "  Downloading synapseclient-2.5.0-py3-none-any.whl (211 kB)\n",
      "\u001b[K     |████████████████████████████████| 211 kB 3.2 MB/s eta 0:00:01\n",
      "\u001b[?25hRequirement already satisfied: requests<3.0,>=2.22.0 in /opt/miniconda/lib/python3.9/site-packages (from synapseclient>=2.2.0->nlpsandbox-client) (2.25.0)\n",
      "Collecting deprecated<2.0,>=1.2.4\n",
      "  Downloading Deprecated-1.2.13-py2.py3-none-any.whl (9.6 kB)\n",
      "Collecting keyring==12.0.2\n",
      "  Downloading keyring-12.0.2-py2.py3-none-any.whl (32 kB)\n",
      "Collecting entrypoints\n",
      "  Downloading entrypoints-0.3-py2.py3-none-any.whl (11 kB)\n",
      "Collecting keyrings.alt==3.1\n",
      "  Downloading keyrings.alt-3.1-py2.py3-none-any.whl (21 kB)\n",
      "Requirement already satisfied: six>=1.10 in /opt/miniconda/lib/python3.9/site-packages (from nlpsandbox-client) (1.15.0)\n",
      "Requirement already satisfied: chardet<4,>=3.0.2 in /opt/miniconda/lib/python3.9/site-packages (from requests<3.0,>=2.22.0->synapseclient>=2.2.0->nlpsandbox-client) (3.0.4)\n",
      "Requirement already satisfied: certifi>=14.05.14 in /opt/miniconda/lib/python3.9/site-packages (from nlpsandbox-client) (2020.12.5)\n",
      "Requirement already satisfied: urllib3>=1.15.1 in /opt/miniconda/lib/python3.9/site-packages (from nlpsandbox-client) (1.25.11)\n",
      "Requirement already satisfied: idna<3,>=2.5 in /opt/miniconda/lib/python3.9/site-packages (from requests<3.0,>=2.22.0->synapseclient>=2.2.0->nlpsandbox-client) (2.10)\n",
      "Collecting secretstorage<3\n",
      "  Downloading SecretStorage-2.3.1.tar.gz (16 kB)\n",
      "Requirement already satisfied: cryptography in /opt/miniconda/lib/python3.9/site-packages (from secretstorage<3->keyring==12.0.2->synapseclient>=2.2.0->nlpsandbox-client) (3.3.1)\n",
      "Requirement already satisfied: six>=1.10 in /opt/miniconda/lib/python3.9/site-packages (from nlpsandbox-client) (1.15.0)\n",
      "Requirement already satisfied: cffi>=1.12 in /opt/miniconda/lib/python3.9/site-packages (from cryptography->secretstorage<3->keyring==12.0.2->synapseclient>=2.2.0->nlpsandbox-client) (1.14.4)\n",
      "Requirement already satisfied: pycparser in /opt/miniconda/lib/python3.9/site-packages (from cffi>=1.12->cryptography->secretstorage<3->keyring==12.0.2->synapseclient>=2.2.0->nlpsandbox-client) (2.20)\n",
      "Collecting wrapt<2,>=1.10\n",
      "  Downloading wrapt-1.13.3-cp39-cp39-manylinux_2_5_x86_64.manylinux1_x86_64.manylinux_2_12_x86_64.manylinux2010_x86_64.whl (81 kB)\n",
      "\u001b[K     |████████████████████████████████| 81 kB 3.8 MB/s eta 0:00:011\n",
      "\u001b[?25hBuilding wheels for collected packages: nlpsandbox-client, secretstorage\n",
      "  Building wheel for nlpsandbox-client (setup.py) ... \u001b[?25ldone\n",
      "\u001b[?25h  Created wheel for nlpsandbox-client: filename=nlpsandbox_client-4.2.0-py3-none-any.whl size=358102 sha256=8076f7f7e4038a5d0fbb3aea7ac9f9c1925e8202f3927c5d71b6a61b44fca668\n",
      "  Stored in directory: /home/nlp/.cache/pip/wheels/f5/9b/21/d3ae0c553bce8ffdc272ec6b79e1fc58d990cd9e4c6d7b0b0f\n",
      "  Building wheel for secretstorage (setup.py) ... \u001b[?25ldone\n",
      "\u001b[?25h  Created wheel for secretstorage: filename=SecretStorage-2.3.1-py3-none-any.whl size=13961 sha256=8fb3d3a8eb7abdd2a0f6dbfb57900def08cf1ed720475f2587e0b94df4199bbc\n",
      "  Stored in directory: /home/nlp/.cache/pip/wheels/c8/d6/1c/b92da575244c60544a985eba6e73763cb449656c42e7e3d70c\n",
      "Successfully built nlpsandbox-client secretstorage\n",
      "Installing collected packages: wrapt, secretstorage, entrypoints, pyrsistent, keyrings.alt, keyring, deprecated, attrs, synapseclient, python-dateutil, nulltype, jsonschema, click, nlpsandbox-client\n",
      "\u001b[33m  WARNING: The script keyring is installed in '/home/nlp/.local/bin' which is not on PATH.\n",
      "  Consider adding this directory to PATH or, if you prefer to suppress this warning, use --no-warn-script-location.\u001b[0m\n",
      "\u001b[33m  WARNING: The script synapse is installed in '/home/nlp/.local/bin' which is not on PATH.\n",
      "  Consider adding this directory to PATH or, if you prefer to suppress this warning, use --no-warn-script-location.\u001b[0m\n",
      "\u001b[33m  WARNING: The script jsonschema is installed in '/home/nlp/.local/bin' which is not on PATH.\n",
      "  Consider adding this directory to PATH or, if you prefer to suppress this warning, use --no-warn-script-location.\u001b[0m\n",
      "\u001b[33m  WARNING: The script nlp-cli is installed in '/home/nlp/.local/bin' which is not on PATH.\n",
      "  Consider adding this directory to PATH or, if you prefer to suppress this warning, use --no-warn-script-location.\u001b[0m\n",
      "Successfully installed attrs-21.2.0 click-8.0.3 deprecated-1.2.13 entrypoints-0.3 jsonschema-4.2.1 keyring-12.0.2 keyrings.alt-3.1 nlpsandbox-client-4.2.0 nulltype-2.3.1 pyrsistent-0.18.0 python-dateutil-2.8.2 secretstorage-2.3.1 synapseclient-2.5.0 wrapt-1.13.3\n"
     ]
    }
   ],
   "source": [
    "! pip install nlpsandbox-client"
   ]
  },
  {
   "cell_type": "code",
   "execution_count": 4,
   "id": "a27e3197",
   "metadata": {},
   "outputs": [],
   "source": [
    "from nlpsandboxclient import client"
   ]
  },
  {
   "cell_type": "code",
   "execution_count": 7,
   "id": "6b17d980",
   "metadata": {},
   "outputs": [],
   "source": [
    "data_node_host = \"http://data-node-nginx:80/api/v1\"\n",
    "annotator_host = \"http://phi-annotator-nginx:80/api/v1\""
   ]
  },
  {
   "cell_type": "markdown",
   "id": "bbdeaea9",
   "metadata": {},
   "source": [
    "## Load the dataset"
   ]
  },
  {
   "cell_type": "code",
   "execution_count": 8,
   "id": "326817e4",
   "metadata": {},
   "outputs": [
    {
     "name": "stdout",
     "output_type": "stream",
     "text": [
      "{'name': 'datasets/i2b2-test-dataset'}\n"
     ]
    }
   ],
   "source": [
    "datasets = client.list_datasets(host=data_node_host)\n",
    "\n",
    "for dataset in datasets:\n",
    "      print(dataset)"
   ]
  },
  {
   "cell_type": "markdown",
   "id": "ba9dc497",
   "metadata": {},
   "source": [
    "## Test annotator "
   ]
  },
  {
   "cell_type": "code",
   "execution_count": 9,
   "id": "7ef92056",
   "metadata": {},
   "outputs": [
    {
     "name": "stdout",
     "output_type": "stream",
     "text": [
      "{'textDateAnnotations': [{'start': 3, 'length': 10, 'text': '12/26/2020', 'confidence': 95.5, 'dateFormat': 'MM/DD/YYYY'}, {'start': 9, 'length': 4, 'text': '2020', 'confidence': 95.5, 'dateFormat': 'YYYY'}]}\n"
     ]
    }
   ],
   "source": [
    "# an example of using the annotator to annotate one note\n",
    "example_note = {\n",
    "   \"identifier\": \"note-1\",\n",
    "   \"type\": \"loinc:LP29684-5\",\n",
    "   \"patientId\": \"507f1f77bcf86cd799439011\",\n",
    "   \"text\": \"On 12/26/2020, Ms. Chloe Price met with Dr. Prescott in Seattle.\"\n",
    "}\n",
    "\n",
    "annotations = client.annotate_note(host=annotator_host,\n",
    "                            note=example_note,\n",
    "                            tool_type=\"nlpsandbox:date-annotator\")\n",
    "\n",
    "print(annotations)"
   ]
  },
  {
   "cell_type": "code",
   "execution_count": 10,
   "id": "4fc4ea7c",
   "metadata": {},
   "outputs": [
    {
     "name": "stdout",
     "output_type": "stream",
     "text": [
      "514\n"
     ]
    }
   ],
   "source": [
    "# an example of using the annotator to annotate all notes in the test dataset\n",
    "from nlpsandboxclient import client\n",
    "notes = client.list_notes(host=data_node_host,\n",
    "                  dataset_id=\"i2b2-test-dataset\",\n",
    "                  fhir_store_id=\"evaluation\")\n",
    "\n",
    "test_notes = list(notes)\n",
    "print(len(test_notes))\n",
    "annotation_store_name = 'sparknlp'\n",
    "dataset_name = 'i2b2-test-dataset'\n",
    "annotation_list = []\n",
    "converted_annotation_list = []\n",
    "for i in test_notes:\n",
    "    note_name= i.pop('note_name', None)\n",
    "    note_id = note_name[-6:]\n",
    "    # There is an error in annotation generated from  client.annotate_note, the note_name is \"dataset/..\"  but it should be \"datasets/..\"\n",
    "    note_name = \"datasets\"+note_name[7:]\n",
    "    annotations = client.annotate_note(host=annotator_host,\n",
    "                            note=i,\n",
    "                            tool_type=\"nlpsandbox:date-annotator\")\n",
    "    #annotation_name = f\"datasets/{dataset_name}/annotationStores/{annotation_store_name}/annotations/{note_id}\"\n",
    "    converted_annotation = {\"annotationSource\":{\"resourceSource\":{\"name\":note_name}},\"textContactAnnotations\": [], \"textCovidSymptomAnnotations\":[],\"textDateAnnotations\":annotations[\"textDateAnnotations\"],\"textIdAnnotations\":[],\"textLocationAnnotations\": [],\"textPersonNameAnnotations\": []}\n",
    "    converted_annotation_list.append(converted_annotation)"
   ]
  },
  {
   "cell_type": "code",
   "execution_count": 8,
   "id": "e522621d",
   "metadata": {},
   "outputs": [
    {
     "data": {
      "text/plain": [
       "[]"
      ]
     },
     "execution_count": 8,
     "metadata": {},
     "output_type": "execute_result"
    }
   ],
   "source": [
    "converted_annotation_list"
   ]
  },
  {
   "cell_type": "code",
   "execution_count": 15,
   "id": "2a7be63b",
   "metadata": {},
   "outputs": [
    {
     "name": "stdout",
     "output_type": "stream",
     "text": [
      "Deleted existing Annotation Store\n",
      "Created Annotation Store\n"
     ]
    }
   ],
   "source": [
    "## store the annotation to the data node\n",
    "client.store_annotations(host=data_node_host,\n",
    "                 dataset_id=dataset_name,\n",
    "                 annotation_store_id= annotation_store_name,\n",
    "                 annotations = converted_annotation_list,\n",
    "                 delete_existing_annotations = True)"
   ]
  },
  {
   "cell_type": "code",
   "execution_count": null,
   "id": "49115711",
   "metadata": {},
   "outputs": [],
   "source": []
  }
 ],
 "metadata": {
  "kernelspec": {
   "display_name": "Python 3 (ipykernel)",
   "language": "python",
   "name": "python3"
  },
  "language_info": {
   "codemirror_mode": {
    "name": "ipython",
    "version": 3
   },
   "file_extension": ".py",
   "mimetype": "text/x-python",
   "name": "python",
   "nbconvert_exporter": "python",
   "pygments_lexer": "ipython3",
   "version": "3.9.4"
  }
 },
 "nbformat": 4,
 "nbformat_minor": 5
}
